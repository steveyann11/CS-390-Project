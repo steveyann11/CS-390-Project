{
 "cells": [
  {
   "cell_type": "code",
   "execution_count": 1,
   "metadata": {},
   "outputs": [],
   "source": [
    "import pandas as pd"
   ]
  },
  {
   "cell_type": "code",
   "execution_count": 3,
   "metadata": {},
   "outputs": [],
   "source": [
    "data = pd.read_csv(\"~/CS-390-Project/application/CourseOfferings24SP.csv\")"
   ]
  },
  {
   "cell_type": "markdown",
   "metadata": {},
   "source": [
    "The Following Code can be used to reset the csv file so that it only contains data on normal classes (No information on Final) and all classes are empty so anyone can add them to their schedule."
   ]
  },
  {
   "cell_type": "code",
   "execution_count": 4,
   "metadata": {},
   "outputs": [],
   "source": [
    "def parse_days(item):\n",
    "    if pd.notna(item) and len(item) == 4:\n",
    "        if item[-3:] != 'H':\n",
    "            return item[:-1]\n",
    "        else:\n",
    "            return item[:-2]\n",
    "    elif pd.notna(item) and len(item) == 3:\n",
    "        if item[-2:] != 'H':\n",
    "            return item[:-1]\n",
    "        else:\n",
    "            return item[:-2]\n",
    "    elif pd.notna(item) and len(item) == 5:\n",
    "        if item[-4:] != 'H':\n",
    "            return item[:-1]\n",
    "        else:\n",
    "            return item[:-2]\n",
    "    elif pd.notna(item) and len(item) == 6:\n",
    "        if item[-5:] != 'H':\n",
    "            return item[:-1]\n",
    "        else:\n",
    "            return item[:-2]\n",
    "    elif pd.notna(item) and len(item) == 8:\n",
    "        if item[:-7] != 'H':\n",
    "            return item[:-6]\n",
    "    return item\n",
    "    "
   ]
  },
  {
   "cell_type": "code",
   "execution_count": 5,
   "metadata": {},
   "outputs": [],
   "source": [
    "def parse_bldg(item):\n",
    "    if pd.notna(item) and len(item) == 8:\n",
    "        return item[:-4]\n",
    "    elif pd.notna(item) and len(item) == 12:\n",
    "        return item[:-8]\n",
    "    elif pd.notna(item) and len(item) == 16:\n",
    "        return item[:-12]\n",
    "    return item"
   ]
  },
  {
   "cell_type": "code",
   "execution_count": 6,
   "metadata": {},
   "outputs": [],
   "source": [
    "def parse_room(item):\n",
    "    if pd.notna(item) and len(item) == 6:\n",
    "        return item[:-3]\n",
    "    elif pd.notna(item) and len(item) == 9:\n",
    "        return item[:-6]\n",
    "    elif pd.notna(item) and len(item) == 16:\n",
    "        return item[:-8]\n",
    "    elif pd.notna(item) and len(item) == 4:\n",
    "        return item[:-2]\n",
    "    elif pd.notna(item) and len(item) == 12:\n",
    "        return item[:-9]\n",
    "    return item"
   ]
  },
  {
   "cell_type": "code",
   "execution_count": 7,
   "metadata": {},
   "outputs": [],
   "source": [
    "def reset_classes(data):\n",
    "    for seat in range(len(data['Seat Capatcity'])):\n",
    "        seat_capacity = data.at[seat, 'Seat Capatcity']\n",
    "        data.at[seat, 'Seats Available'] = seat_capacity\n",
    "        data.at[seat, 'Avail Status'] = 'Open'"
   ]
  },
  {
   "cell_type": "code",
   "execution_count": 8,
   "metadata": {},
   "outputs": [],
   "source": [
    "data['BLDG'] = data['BLDG'].apply(parse_bldg)\n",
    "data['DAYS'] = data['DAYS'].apply(parse_days)\n",
    "data['ROOM'] = data['ROOM'].apply(parse_room)\n",
    "data['Start Time'] = data['Start Time'].str.split(',').str[0]\n",
    "data['End Time'] = data['End Time'].str.split(',').str[0]\n",
    "reset_classes(data)\n",
    "data.to_csv('~/CS-390-Project/application/CourseOfferings24SP-RegularClassReset.csv', index=False)"
   ]
  },
  {
   "cell_type": "markdown",
   "metadata": {},
   "source": [
    "This is where code for information regarding the final will begin "
   ]
  },
  {
   "cell_type": "code",
   "execution_count": 62,
   "metadata": {},
   "outputs": [],
   "source": [
    "# Issues with classes where there is only 1 or 2 days. Unsure if there is a final for those classes or just normal\n",
    "def parse_final_day(item):\n",
    "    if pd.notna(item) and len(item) == 4:\n",
    "        if item[-3:] != 'H':\n",
    "            return item[-1:]\n",
    "        else:\n",
    "            return item[-2:]\n",
    "    elif pd.notna(item) and len(item) == 3:\n",
    "        if item[-2:] != 'H':\n",
    "            return item[-1:]\n",
    "        else:\n",
    "            return item[-2:]\n",
    "    elif pd.notna(item) and len(item) == 5:\n",
    "        if item[-4:] != 'H':\n",
    "            return item[-1:]\n",
    "        else:\n",
    "            return item[-2:]\n",
    "    elif pd.notna(item) and len(item) == 6:\n",
    "        if item[-5:] != 'H':\n",
    "            return item[-1:]\n",
    "        else:\n",
    "            return item[-2:]\n",
    "    return item"
   ]
  },
  {
   "cell_type": "code",
   "execution_count": 63,
   "metadata": {},
   "outputs": [],
   "source": [
    "def parse_final_bldg(item):\n",
    "    if pd.notna(item) and len(item) == 8:\n",
    "        return item[-4:]\n",
    "    elif pd.notna(item) and len(item) == 12:\n",
    "        return item[-8:]\n",
    "    return item"
   ]
  },
  {
   "cell_type": "code",
   "execution_count": 64,
   "metadata": {},
   "outputs": [],
   "source": [
    "def parse_final_room(item):\n",
    "    if pd.notna(item) and len(item) == 6:\n",
    "        return item[-3:]\n",
    "    elif pd.notna(item) and len(item) == 9:\n",
    "        return item[-6:]\n",
    "    elif pd.notna(item) and len(item) == 16:\n",
    "        return item[-8:]\n",
    "    elif pd.notna(item) and len(item) == 4:\n",
    "        return item[-2:]\n",
    "    return item"
   ]
  },
  {
   "cell_type": "code",
   "execution_count": 65,
   "metadata": {},
   "outputs": [],
   "source": [
    "def reset_final(data):\n",
    "    for seat in range(len(data['Seat Capatcity'])):\n",
    "        seat_capacity = data.at[seat, 'Seat Capatcity']\n",
    "        data.at[seat, 'Seats Available'] = seat_capacity\n",
    "        data.at[seat, 'Avail Status'] = 'Open'"
   ]
  },
  {
   "cell_type": "code",
   "execution_count": 66,
   "metadata": {},
   "outputs": [],
   "source": [
    "data['BLDG'] = data['BLDG'].apply(parse_final_bldg)\n",
    "data['DAYS'] = data['DAYS'].apply(parse_final_day)\n",
    "data['ROOM'] = data['ROOM'].apply(parse_final_room)\n",
    "data['Start Time'] = data['Start Time'].str.split(',').str[1]\n",
    "data['End Time'] = data['End Time'].str.split(',').str[1]\n",
    "reset_classes(data)\n",
    "data.to_csv('~/CS-390-Project/application/CourseOfferings24SP-FinalReset.csv', index=False)"
   ]
  }
 ],
 "metadata": {
  "kernelspec": {
   "display_name": "base",
   "language": "python",
   "name": "python3"
  },
  "language_info": {
   "codemirror_mode": {
    "name": "ipython",
    "version": 3
   },
   "file_extension": ".py",
   "mimetype": "text/x-python",
   "name": "python",
   "nbconvert_exporter": "python",
   "pygments_lexer": "ipython3",
   "version": "3.11.4"
  }
 },
 "nbformat": 4,
 "nbformat_minor": 2
}
