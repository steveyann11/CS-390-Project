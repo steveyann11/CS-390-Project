{
 "cells": [
  {
   "cell_type": "code",
   "execution_count": 131,
   "metadata": {},
   "outputs": [],
   "source": [
    "import pandas as pd"
   ]
  },
  {
   "cell_type": "code",
   "execution_count": 132,
   "metadata": {},
   "outputs": [],
   "source": [
    "data = pd.read_csv(\"~/CS-390-Project/application/CourseOfferings24SP.csv\")"
   ]
  },
  {
   "cell_type": "markdown",
   "metadata": {},
   "source": [
    "The Following Code can be used to reset the csv file so that it only contains data on normal classes (No information on Final) and all classes are empty so anyone can add them to their schedule."
   ]
  },
  {
   "cell_type": "code",
   "execution_count": 121,
   "metadata": {},
   "outputs": [],
   "source": [
    "def parse_days(item):\n",
    "    if pd.notna(item) and len(item) == 4:\n",
    "        if item[-3:] != 'H':\n",
    "            return item[:-1]\n",
    "        else:\n",
    "            return item[:-2]\n",
    "    elif pd.notna(item) and len(item) == 3:\n",
    "        if item[-2:] != 'H':\n",
    "            return item[:-1]\n",
    "        else:\n",
    "            return item[:-2]\n",
    "    elif pd.notna(item) and len(item) == 5:\n",
    "        if item[-4:] != 'H':\n",
    "            return item[:-1]\n",
    "        else:\n",
    "            return item[:-2]\n",
    "    elif pd.notna(item) and len(item) == 6:\n",
    "        if item[-5:] != 'H':\n",
    "            if item[-3:] == 'THF':\n",
    "                return item[:-3]\n",
    "            else:\n",
    "                return item[:-1]            \n",
    "        else:\n",
    "            return item[:-2]\n",
    "    elif pd.notna(item) and len(item) == 8:\n",
    "        if item[:-7] != 'H':\n",
    "            return item[:-6]\n",
    "    elif pd.notna(item) and len(item) == 2:\n",
    "        if item[:-1] != 'H':\n",
    "            if item[:-1] == item[-1:]:\n",
    "                return item[:-1]\n",
    "        elif item[:-1] == 'S':\n",
    "            return item[:-1]\n",
    "        elif item[:-1] == 'M':\n",
    "            return item[:-1]\n",
    "    elif pd.notna(item) and len(item) == 21:\n",
    "        return item[:-16]\n",
    "    elif pd.notna(item) and len(item) == 10:\n",
    "        return item[:-4]\n",
    "    elif pd.notna(item) and len(item) == 11:\n",
    "        return item[:-5]\n",
    "    return item\n",
    "    "
   ]
  },
  {
   "cell_type": "code",
   "execution_count": 122,
   "metadata": {},
   "outputs": [],
   "source": [
    "def parse_bldg(item):\n",
    "    if pd.notna(item) and len(item) == 8:\n",
    "        return item[:-4]\n",
    "    elif pd.notna(item) and len(item) == 12:\n",
    "        return item[:-8]\n",
    "    elif pd.notna(item) and len(item) == 16:\n",
    "        return item[:-12]\n",
    "    elif pd.notna(item) and len(item) == 40:\n",
    "        return item[:-36]\n",
    "    return item"
   ]
  },
  {
   "cell_type": "code",
   "execution_count": 123,
   "metadata": {},
   "outputs": [],
   "source": [
    "def parse_room(item):\n",
    "    if pd.notna(item) and len(item) == 6:\n",
    "        return item[:-3]\n",
    "    elif pd.notna(item) and len(item) == 9:\n",
    "        return item[:-6]\n",
    "    elif pd.notna(item) and len(item) == 16:\n",
    "        return item[:-8]\n",
    "    elif pd.notna(item) and len(item) == 4:\n",
    "        return item[:-2]\n",
    "    elif pd.notna(item) and len(item) == 12:\n",
    "        return item[:-9]\n",
    "    elif pd.notna(item) and len(item) == 8:\n",
    "        return item[:-4]\n",
    "    elif pd.notna(item) and len(item) == 16:\n",
    "        return item[:-13]\n",
    "    elif pd.notna(item) and len(item) == 30:\n",
    "        return item[:-27]\n",
    "    elif pd.notna(item) and len(item) == 14:\n",
    "        return item[:-11]\n",
    "    return item"
   ]
  },
  {
   "cell_type": "code",
   "execution_count": 124,
   "metadata": {},
   "outputs": [],
   "source": [
    "def reset_classes(data):\n",
    "    for seat in range(len(data['Seat Capatcity'])):\n",
    "        seat_capacity = data.at[seat, 'Seat Capatcity']\n",
    "        data.at[seat, 'Seats Available'] = seat_capacity\n",
    "        data.at[seat, 'Avail Status'] = 'Open'"
   ]
  },
  {
   "cell_type": "code",
   "execution_count": 125,
   "metadata": {},
   "outputs": [],
   "source": [
    "data['BLDG'] = data['BLDG'].apply(parse_bldg)\n",
    "data['DAYS'] = data['DAYS'].apply(parse_days)\n",
    "data['ROOM'] = data['ROOM'].apply(parse_room)\n",
    "data['Start Time'] = data['Start Time'].str.split(',').str[0]\n",
    "data['End Time'] = data['End Time'].str.split(',').str[0]\n",
    "reset_classes(data)\n",
    "data.to_csv('~/CS-390-Project/application/CourseOfferings24SP-RegularClassReset.csv', index=False)"
   ]
  },
  {
   "cell_type": "markdown",
   "metadata": {},
   "source": [
    "This is where code for information regarding the final will begin "
   ]
  },
  {
   "cell_type": "code",
   "execution_count": 133,
   "metadata": {},
   "outputs": [],
   "source": [
    "# Issues with classes where there is only 1 or 2 days. Unsure if there is a final for those classes or just normal\n",
    "def parse_final_day(item):\n",
    "    if pd.notna(item) and len(item) == 4:\n",
    "        if item[-3:] != 'H':\n",
    "            return item[-1:]\n",
    "        else:\n",
    "            return item[-2:]\n",
    "    elif pd.notna(item) and len(item) == 3:\n",
    "        if item[-2:] != 'H':\n",
    "            return item[-1:]\n",
    "        else:\n",
    "            return item[-2:]\n",
    "    elif pd.notna(item) and len(item) == 5:\n",
    "        if item[-4:] != 'H':\n",
    "            return item[-1:]\n",
    "        else:\n",
    "            return item[-2:]\n",
    "    elif pd.notna(item) and len(item) == 6:\n",
    "        if item[-5:] != 'H':\n",
    "            return item[-1:]\n",
    "        else:\n",
    "            return item[-2:]\n",
    "    return item"
   ]
  },
  {
   "cell_type": "code",
   "execution_count": 138,
   "metadata": {},
   "outputs": [],
   "source": [
    "def parse_final_bldg(item):\n",
    "    if pd.notna(item) and len(item) == 8:\n",
    "        return item[-4:]\n",
    "    elif pd.notna(item) and len(item) == 12:\n",
    "        return item[-8:]\n",
    "    elif pd.notna(item) and len(item) == 16:\n",
    "        return item[-12:]\n",
    "    elif pd.notna(item) and len(item) == 40:\n",
    "        return item[-36:]\n",
    "    return item"
   ]
  },
  {
   "cell_type": "code",
   "execution_count": 135,
   "metadata": {},
   "outputs": [],
   "source": [
    "def parse_final_room(item):\n",
    "    if pd.notna(item) and len(item) == 6:\n",
    "        return item[-3:]\n",
    "    elif pd.notna(item) and len(item) == 9:\n",
    "        return item[-6:]\n",
    "    elif pd.notna(item) and len(item) == 16:\n",
    "        return item[-8:]\n",
    "    elif pd.notna(item) and len(item) == 4:\n",
    "        return item[-2:]\n",
    "    elif pd.notna(item) and len(item) == 8:\n",
    "        return item[-4:]\n",
    "    elif pd.notna(item) and len(item) == 16:\n",
    "        return item[-13:]\n",
    "    elif pd.notna(item) and len(item) == 30:\n",
    "        return item[-27:]\n",
    "    elif pd.notna(item) and len(item) == 14:\n",
    "        return item[-10:]\n",
    "    return item"
   ]
  },
  {
   "cell_type": "code",
   "execution_count": 136,
   "metadata": {},
   "outputs": [],
   "source": [
    "def reset_final(data):\n",
    "    for seat in range(len(data['Seat Capatcity'])):\n",
    "        seat_capacity = data.at[seat, 'Seat Capatcity']\n",
    "        data.at[seat, 'Seats Available'] = seat_capacity\n",
    "        data.at[seat, 'Avail Status'] = 'Open'"
   ]
  },
  {
   "cell_type": "code",
   "execution_count": 140,
   "metadata": {},
   "outputs": [
    {
     "ename": "AttributeError",
     "evalue": "Can only use .str accessor with string values!",
     "output_type": "error",
     "traceback": [
      "\u001b[1;31m---------------------------------------------------------------------------\u001b[0m",
      "\u001b[1;31mAttributeError\u001b[0m                            Traceback (most recent call last)",
      "Cell \u001b[1;32mIn[140], line 4\u001b[0m\n\u001b[0;32m      2\u001b[0m data[\u001b[38;5;124m'\u001b[39m\u001b[38;5;124mDAYS\u001b[39m\u001b[38;5;124m'\u001b[39m] \u001b[38;5;241m=\u001b[39m data[\u001b[38;5;124m'\u001b[39m\u001b[38;5;124mDAYS\u001b[39m\u001b[38;5;124m'\u001b[39m]\u001b[38;5;241m.\u001b[39mapply(parse_final_day)\n\u001b[0;32m      3\u001b[0m data[\u001b[38;5;124m'\u001b[39m\u001b[38;5;124mROOM\u001b[39m\u001b[38;5;124m'\u001b[39m] \u001b[38;5;241m=\u001b[39m data[\u001b[38;5;124m'\u001b[39m\u001b[38;5;124mROOM\u001b[39m\u001b[38;5;124m'\u001b[39m]\u001b[38;5;241m.\u001b[39mapply(parse_final_room)\n\u001b[1;32m----> 4\u001b[0m data[\u001b[38;5;124m'\u001b[39m\u001b[38;5;124mStart Time\u001b[39m\u001b[38;5;124m'\u001b[39m] \u001b[38;5;241m=\u001b[39m data[\u001b[38;5;124m'\u001b[39m\u001b[38;5;124mStart Time\u001b[39m\u001b[38;5;124m'\u001b[39m]\u001b[38;5;241m.\u001b[39mstr\u001b[38;5;241m.\u001b[39msplit(\u001b[38;5;124m'\u001b[39m\u001b[38;5;124m,\u001b[39m\u001b[38;5;124m'\u001b[39m)\u001b[38;5;241m.\u001b[39mstr[\u001b[38;5;241m1\u001b[39m]\n\u001b[0;32m      5\u001b[0m data[\u001b[38;5;124m'\u001b[39m\u001b[38;5;124mEnd Time\u001b[39m\u001b[38;5;124m'\u001b[39m] \u001b[38;5;241m=\u001b[39m data[\u001b[38;5;124m'\u001b[39m\u001b[38;5;124mEnd Time\u001b[39m\u001b[38;5;124m'\u001b[39m]\u001b[38;5;241m.\u001b[39mstr\u001b[38;5;241m.\u001b[39msplit(\u001b[38;5;124m'\u001b[39m\u001b[38;5;124m,\u001b[39m\u001b[38;5;124m'\u001b[39m)\u001b[38;5;241m.\u001b[39mstr[\u001b[38;5;241m1\u001b[39m]\n\u001b[0;32m      6\u001b[0m reset_classes(data)\n",
      "File \u001b[1;32mc:\\Users\\b17kr\\anaconda3\\Lib\\site-packages\\pandas\\core\\generic.py:5902\u001b[0m, in \u001b[0;36mNDFrame.__getattr__\u001b[1;34m(self, name)\u001b[0m\n\u001b[0;32m   5895\u001b[0m \u001b[38;5;28;01mif\u001b[39;00m (\n\u001b[0;32m   5896\u001b[0m     name \u001b[38;5;129;01mnot\u001b[39;00m \u001b[38;5;129;01min\u001b[39;00m \u001b[38;5;28mself\u001b[39m\u001b[38;5;241m.\u001b[39m_internal_names_set\n\u001b[0;32m   5897\u001b[0m     \u001b[38;5;129;01mand\u001b[39;00m name \u001b[38;5;129;01mnot\u001b[39;00m \u001b[38;5;129;01min\u001b[39;00m \u001b[38;5;28mself\u001b[39m\u001b[38;5;241m.\u001b[39m_metadata\n\u001b[0;32m   5898\u001b[0m     \u001b[38;5;129;01mand\u001b[39;00m name \u001b[38;5;129;01mnot\u001b[39;00m \u001b[38;5;129;01min\u001b[39;00m \u001b[38;5;28mself\u001b[39m\u001b[38;5;241m.\u001b[39m_accessors\n\u001b[0;32m   5899\u001b[0m     \u001b[38;5;129;01mand\u001b[39;00m \u001b[38;5;28mself\u001b[39m\u001b[38;5;241m.\u001b[39m_info_axis\u001b[38;5;241m.\u001b[39m_can_hold_identifiers_and_holds_name(name)\n\u001b[0;32m   5900\u001b[0m ):\n\u001b[0;32m   5901\u001b[0m     \u001b[38;5;28;01mreturn\u001b[39;00m \u001b[38;5;28mself\u001b[39m[name]\n\u001b[1;32m-> 5902\u001b[0m \u001b[38;5;28;01mreturn\u001b[39;00m \u001b[38;5;28mobject\u001b[39m\u001b[38;5;241m.\u001b[39m\u001b[38;5;21m__getattribute__\u001b[39m(\u001b[38;5;28mself\u001b[39m, name)\n",
      "File \u001b[1;32mc:\\Users\\b17kr\\anaconda3\\Lib\\site-packages\\pandas\\core\\accessor.py:182\u001b[0m, in \u001b[0;36mCachedAccessor.__get__\u001b[1;34m(self, obj, cls)\u001b[0m\n\u001b[0;32m    179\u001b[0m \u001b[38;5;28;01mif\u001b[39;00m obj \u001b[38;5;129;01mis\u001b[39;00m \u001b[38;5;28;01mNone\u001b[39;00m:\n\u001b[0;32m    180\u001b[0m     \u001b[38;5;66;03m# we're accessing the attribute of the class, i.e., Dataset.geo\u001b[39;00m\n\u001b[0;32m    181\u001b[0m     \u001b[38;5;28;01mreturn\u001b[39;00m \u001b[38;5;28mself\u001b[39m\u001b[38;5;241m.\u001b[39m_accessor\n\u001b[1;32m--> 182\u001b[0m accessor_obj \u001b[38;5;241m=\u001b[39m \u001b[38;5;28mself\u001b[39m\u001b[38;5;241m.\u001b[39m_accessor(obj)\n\u001b[0;32m    183\u001b[0m \u001b[38;5;66;03m# Replace the property with the accessor object. Inspired by:\u001b[39;00m\n\u001b[0;32m    184\u001b[0m \u001b[38;5;66;03m# https://www.pydanny.com/cached-property.html\u001b[39;00m\n\u001b[0;32m    185\u001b[0m \u001b[38;5;66;03m# We need to use object.__setattr__ because we overwrite __setattr__ on\u001b[39;00m\n\u001b[0;32m    186\u001b[0m \u001b[38;5;66;03m# NDFrame\u001b[39;00m\n\u001b[0;32m    187\u001b[0m \u001b[38;5;28mobject\u001b[39m\u001b[38;5;241m.\u001b[39m\u001b[38;5;21m__setattr__\u001b[39m(obj, \u001b[38;5;28mself\u001b[39m\u001b[38;5;241m.\u001b[39m_name, accessor_obj)\n",
      "File \u001b[1;32mc:\\Users\\b17kr\\anaconda3\\Lib\\site-packages\\pandas\\core\\strings\\accessor.py:181\u001b[0m, in \u001b[0;36mStringMethods.__init__\u001b[1;34m(self, data)\u001b[0m\n\u001b[0;32m    178\u001b[0m \u001b[38;5;28;01mdef\u001b[39;00m \u001b[38;5;21m__init__\u001b[39m(\u001b[38;5;28mself\u001b[39m, data) \u001b[38;5;241m-\u001b[39m\u001b[38;5;241m>\u001b[39m \u001b[38;5;28;01mNone\u001b[39;00m:\n\u001b[0;32m    179\u001b[0m     \u001b[38;5;28;01mfrom\u001b[39;00m \u001b[38;5;21;01mpandas\u001b[39;00m\u001b[38;5;21;01m.\u001b[39;00m\u001b[38;5;21;01mcore\u001b[39;00m\u001b[38;5;21;01m.\u001b[39;00m\u001b[38;5;21;01marrays\u001b[39;00m\u001b[38;5;21;01m.\u001b[39;00m\u001b[38;5;21;01mstring_\u001b[39;00m \u001b[38;5;28;01mimport\u001b[39;00m StringDtype\n\u001b[1;32m--> 181\u001b[0m     \u001b[38;5;28mself\u001b[39m\u001b[38;5;241m.\u001b[39m_inferred_dtype \u001b[38;5;241m=\u001b[39m \u001b[38;5;28mself\u001b[39m\u001b[38;5;241m.\u001b[39m_validate(data)\n\u001b[0;32m    182\u001b[0m     \u001b[38;5;28mself\u001b[39m\u001b[38;5;241m.\u001b[39m_is_categorical \u001b[38;5;241m=\u001b[39m is_categorical_dtype(data\u001b[38;5;241m.\u001b[39mdtype)\n\u001b[0;32m    183\u001b[0m     \u001b[38;5;28mself\u001b[39m\u001b[38;5;241m.\u001b[39m_is_string \u001b[38;5;241m=\u001b[39m \u001b[38;5;28misinstance\u001b[39m(data\u001b[38;5;241m.\u001b[39mdtype, StringDtype)\n",
      "File \u001b[1;32mc:\\Users\\b17kr\\anaconda3\\Lib\\site-packages\\pandas\\core\\strings\\accessor.py:235\u001b[0m, in \u001b[0;36mStringMethods._validate\u001b[1;34m(data)\u001b[0m\n\u001b[0;32m    232\u001b[0m inferred_dtype \u001b[38;5;241m=\u001b[39m lib\u001b[38;5;241m.\u001b[39minfer_dtype(values, skipna\u001b[38;5;241m=\u001b[39m\u001b[38;5;28;01mTrue\u001b[39;00m)\n\u001b[0;32m    234\u001b[0m \u001b[38;5;28;01mif\u001b[39;00m inferred_dtype \u001b[38;5;129;01mnot\u001b[39;00m \u001b[38;5;129;01min\u001b[39;00m allowed_types:\n\u001b[1;32m--> 235\u001b[0m     \u001b[38;5;28;01mraise\u001b[39;00m \u001b[38;5;167;01mAttributeError\u001b[39;00m(\u001b[38;5;124m\"\u001b[39m\u001b[38;5;124mCan only use .str accessor with string values!\u001b[39m\u001b[38;5;124m\"\u001b[39m)\n\u001b[0;32m    236\u001b[0m \u001b[38;5;28;01mreturn\u001b[39;00m inferred_dtype\n",
      "\u001b[1;31mAttributeError\u001b[0m: Can only use .str accessor with string values!"
     ]
    }
   ],
   "source": [
    "data['BLDG'] = data['BLDG'].apply(parse_final_bldg)\n",
    "data['DAYS'] = data['DAYS'].apply(parse_final_day)\n",
    "data['ROOM'] = data['ROOM'].apply(parse_final_room)\n",
    "data['Start Time'] = data['Start Time'].str.split(',').str[1]\n",
    "data['End Time'] = data['End Time'].str.split(',').str[1]\n",
    "reset_classes(data)\n",
    "data.to_csv('~/CS-390-Project/application/CourseOfferings24SP-FinalReset.csv', index=False)"
   ]
  }
 ],
 "metadata": {
  "kernelspec": {
   "display_name": "base",
   "language": "python",
   "name": "python3"
  },
  "language_info": {
   "codemirror_mode": {
    "name": "ipython",
    "version": 3
   },
   "file_extension": ".py",
   "mimetype": "text/x-python",
   "name": "python",
   "nbconvert_exporter": "python",
   "pygments_lexer": "ipython3",
   "version": "3.11.4"
  }
 },
 "nbformat": 4,
 "nbformat_minor": 2
}
